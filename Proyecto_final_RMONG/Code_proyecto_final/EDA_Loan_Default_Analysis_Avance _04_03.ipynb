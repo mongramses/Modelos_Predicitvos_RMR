{
 "cells": [
  {
   "cell_type": "markdown",
   "id": "be440e47",
   "metadata": {},
   "source": [
    "# Análisis EDA de Default en Préstamos\n",
    "Autor: Tu Nombre\n",
    "Fecha: 2025-04-01"
   ]
  },
  {
   "cell_type": "markdown",
   "id": "ae281363",
   "metadata": {},
   "source": [
    "## 1. Importar librerías"
   ]
  },
  {
   "cell_type": "code",
   "execution_count": 5,
   "id": "e2037911",
   "metadata": {},
   "outputs": [],
   "source": [
    "import pandas as pd\n",
    "import numpy as np\n",
    "import matplotlib.pyplot as plt\n",
    "import seaborn as sns\n",
    "from scipy import stats\n",
    "from sklearn.preprocessing import LabelEncoder\n",
    "from sklearn.model_selection import train_test_split, cross_val_score\n",
    "from sklearn.linear_model import LogisticRegression\n",
    "from sklearn.ensemble import RandomForestClassifier\n",
    "from sklearn.metrics import classification_report, confusion_matrix, roc_auc_score, roc_curve"
   ]
  },
  {
   "cell_type": "markdown",
   "id": "a518abbf",
   "metadata": {},
   "source": [
    "## 2. Cargar datos"
   ]
  },
  {
   "cell_type": "code",
   "execution_count": 6,
   "id": "e63c147b",
   "metadata": {},
   "outputs": [
    {
     "data": {
      "text/html": [
       "<div>\n",
       "<style scoped>\n",
       "    .dataframe tbody tr th:only-of-type {\n",
       "        vertical-align: middle;\n",
       "    }\n",
       "\n",
       "    .dataframe tbody tr th {\n",
       "        vertical-align: top;\n",
       "    }\n",
       "\n",
       "    .dataframe thead th {\n",
       "        text-align: right;\n",
       "    }\n",
       "</style>\n",
       "<table border=\"1\" class=\"dataframe\">\n",
       "  <thead>\n",
       "    <tr style=\"text-align: right;\">\n",
       "      <th></th>\n",
       "      <th>loanid</th>\n",
       "      <th>age</th>\n",
       "      <th>income</th>\n",
       "      <th>loanamount</th>\n",
       "      <th>creditscore</th>\n",
       "      <th>monthsemployed</th>\n",
       "      <th>numcreditlines</th>\n",
       "      <th>interestrate</th>\n",
       "      <th>loanterm</th>\n",
       "      <th>dtiratio</th>\n",
       "      <th>education</th>\n",
       "      <th>employmenttype</th>\n",
       "      <th>maritalstatus</th>\n",
       "      <th>hasmortgage</th>\n",
       "      <th>hasdependents</th>\n",
       "      <th>loanpurpose</th>\n",
       "      <th>hascosigner</th>\n",
       "      <th>default</th>\n",
       "    </tr>\n",
       "  </thead>\n",
       "  <tbody>\n",
       "    <tr>\n",
       "      <th>0</th>\n",
       "      <td>I38PQUQS96</td>\n",
       "      <td>56</td>\n",
       "      <td>85994</td>\n",
       "      <td>50587</td>\n",
       "      <td>520</td>\n",
       "      <td>80</td>\n",
       "      <td>4</td>\n",
       "      <td>15.23</td>\n",
       "      <td>36</td>\n",
       "      <td>0.44</td>\n",
       "      <td>Bachelor's</td>\n",
       "      <td>Full-time</td>\n",
       "      <td>Divorced</td>\n",
       "      <td>Yes</td>\n",
       "      <td>Yes</td>\n",
       "      <td>Other</td>\n",
       "      <td>Yes</td>\n",
       "      <td>0</td>\n",
       "    </tr>\n",
       "    <tr>\n",
       "      <th>1</th>\n",
       "      <td>HPSK72WA7R</td>\n",
       "      <td>69</td>\n",
       "      <td>50432</td>\n",
       "      <td>124440</td>\n",
       "      <td>458</td>\n",
       "      <td>15</td>\n",
       "      <td>1</td>\n",
       "      <td>4.81</td>\n",
       "      <td>60</td>\n",
       "      <td>0.68</td>\n",
       "      <td>Master's</td>\n",
       "      <td>Full-time</td>\n",
       "      <td>Married</td>\n",
       "      <td>No</td>\n",
       "      <td>No</td>\n",
       "      <td>Other</td>\n",
       "      <td>Yes</td>\n",
       "      <td>0</td>\n",
       "    </tr>\n",
       "    <tr>\n",
       "      <th>2</th>\n",
       "      <td>C1OZ6DPJ8Y</td>\n",
       "      <td>46</td>\n",
       "      <td>84208</td>\n",
       "      <td>129188</td>\n",
       "      <td>451</td>\n",
       "      <td>26</td>\n",
       "      <td>3</td>\n",
       "      <td>21.17</td>\n",
       "      <td>24</td>\n",
       "      <td>0.31</td>\n",
       "      <td>Master's</td>\n",
       "      <td>Unemployed</td>\n",
       "      <td>Divorced</td>\n",
       "      <td>Yes</td>\n",
       "      <td>Yes</td>\n",
       "      <td>Auto</td>\n",
       "      <td>No</td>\n",
       "      <td>1</td>\n",
       "    </tr>\n",
       "    <tr>\n",
       "      <th>3</th>\n",
       "      <td>V2KKSFM3UN</td>\n",
       "      <td>32</td>\n",
       "      <td>31713</td>\n",
       "      <td>44799</td>\n",
       "      <td>743</td>\n",
       "      <td>0</td>\n",
       "      <td>3</td>\n",
       "      <td>7.07</td>\n",
       "      <td>24</td>\n",
       "      <td>0.23</td>\n",
       "      <td>High School</td>\n",
       "      <td>Full-time</td>\n",
       "      <td>Married</td>\n",
       "      <td>No</td>\n",
       "      <td>No</td>\n",
       "      <td>Business</td>\n",
       "      <td>No</td>\n",
       "      <td>0</td>\n",
       "    </tr>\n",
       "    <tr>\n",
       "      <th>4</th>\n",
       "      <td>EY08JDHTZP</td>\n",
       "      <td>60</td>\n",
       "      <td>20437</td>\n",
       "      <td>9139</td>\n",
       "      <td>633</td>\n",
       "      <td>8</td>\n",
       "      <td>4</td>\n",
       "      <td>6.51</td>\n",
       "      <td>48</td>\n",
       "      <td>0.73</td>\n",
       "      <td>Bachelor's</td>\n",
       "      <td>Unemployed</td>\n",
       "      <td>Divorced</td>\n",
       "      <td>No</td>\n",
       "      <td>Yes</td>\n",
       "      <td>Auto</td>\n",
       "      <td>No</td>\n",
       "      <td>0</td>\n",
       "    </tr>\n",
       "  </tbody>\n",
       "</table>\n",
       "</div>"
      ],
      "text/plain": [
       "       loanid  age  income  loanamount  creditscore  monthsemployed  \\\n",
       "0  I38PQUQS96   56   85994       50587          520              80   \n",
       "1  HPSK72WA7R   69   50432      124440          458              15   \n",
       "2  C1OZ6DPJ8Y   46   84208      129188          451              26   \n",
       "3  V2KKSFM3UN   32   31713       44799          743               0   \n",
       "4  EY08JDHTZP   60   20437        9139          633               8   \n",
       "\n",
       "   numcreditlines  interestrate  loanterm  dtiratio    education  \\\n",
       "0               4         15.23        36      0.44   Bachelor's   \n",
       "1               1          4.81        60      0.68     Master's   \n",
       "2               3         21.17        24      0.31     Master's   \n",
       "3               3          7.07        24      0.23  High School   \n",
       "4               4          6.51        48      0.73   Bachelor's   \n",
       "\n",
       "  employmenttype maritalstatus hasmortgage hasdependents loanpurpose  \\\n",
       "0      Full-time      Divorced         Yes           Yes       Other   \n",
       "1      Full-time       Married          No            No       Other   \n",
       "2     Unemployed      Divorced         Yes           Yes        Auto   \n",
       "3      Full-time       Married          No            No    Business   \n",
       "4     Unemployed      Divorced          No           Yes        Auto   \n",
       "\n",
       "  hascosigner  default  \n",
       "0         Yes        0  \n",
       "1         Yes        0  \n",
       "2          No        1  \n",
       "3          No        0  \n",
       "4          No        0  "
      ]
     },
     "execution_count": 6,
     "metadata": {},
     "output_type": "execute_result"
    }
   ],
   "source": [
    "# Ruta del archivo local Carga de datos y normalización de nombres\n",
    "file_path = \"Loan_default.csv\"\n",
    "df = pd.read_csv(file_path)\n",
    "df.columns = df.columns.str.strip().str.lower().str.replace(\" \", \"_\")\n",
    "df.head()"
   ]
  },
  {
   "cell_type": "markdown",
   "id": "35674cc5",
   "metadata": {},
   "source": [
    "## 3. Información general del dataset"
   ]
  },
  {
   "cell_type": "code",
   "execution_count": 7,
   "id": "7e0c8f21",
   "metadata": {},
   "outputs": [
    {
     "name": "stdout",
     "output_type": "stream",
     "text": [
      "<class 'pandas.core.frame.DataFrame'>\n",
      "RangeIndex: 255347 entries, 0 to 255346\n",
      "Data columns (total 18 columns):\n",
      " #   Column          Non-Null Count   Dtype  \n",
      "---  ------          --------------   -----  \n",
      " 0   loanid          255347 non-null  object \n",
      " 1   age             255347 non-null  int64  \n",
      " 2   income          255347 non-null  int64  \n",
      " 3   loanamount      255347 non-null  int64  \n",
      " 4   creditscore     255347 non-null  int64  \n",
      " 5   monthsemployed  255347 non-null  int64  \n",
      " 6   numcreditlines  255347 non-null  int64  \n",
      " 7   interestrate    255347 non-null  float64\n",
      " 8   loanterm        255347 non-null  int64  \n",
      " 9   dtiratio        255347 non-null  float64\n",
      " 10  education       255347 non-null  object \n",
      " 11  employmenttype  255347 non-null  object \n",
      " 12  maritalstatus   255347 non-null  object \n",
      " 13  hasmortgage     255347 non-null  object \n",
      " 14  hasdependents   255347 non-null  object \n",
      " 15  loanpurpose     255347 non-null  object \n",
      " 16  hascosigner     255347 non-null  object \n",
      " 17  default         255347 non-null  int64  \n",
      "dtypes: float64(2), int64(8), object(8)\n",
      "memory usage: 35.1+ MB\n"
     ]
    }
   ],
   "source": [
    "df.info()"
   ]
  },
  {
   "cell_type": "markdown",
   "id": "b9328858",
   "metadata": {},
   "source": [
    "## 4. Estadísticas descriptivas"
   ]
  },
  {
   "cell_type": "code",
   "execution_count": 8,
   "id": "802475c6",
   "metadata": {},
   "outputs": [
    {
     "data": {
      "text/html": [
       "<div>\n",
       "<style scoped>\n",
       "    .dataframe tbody tr th:only-of-type {\n",
       "        vertical-align: middle;\n",
       "    }\n",
       "\n",
       "    .dataframe tbody tr th {\n",
       "        vertical-align: top;\n",
       "    }\n",
       "\n",
       "    .dataframe thead th {\n",
       "        text-align: right;\n",
       "    }\n",
       "</style>\n",
       "<table border=\"1\" class=\"dataframe\">\n",
       "  <thead>\n",
       "    <tr style=\"text-align: right;\">\n",
       "      <th></th>\n",
       "      <th>age</th>\n",
       "      <th>income</th>\n",
       "      <th>loanamount</th>\n",
       "      <th>creditscore</th>\n",
       "      <th>monthsemployed</th>\n",
       "      <th>numcreditlines</th>\n",
       "      <th>interestrate</th>\n",
       "      <th>loanterm</th>\n",
       "      <th>dtiratio</th>\n",
       "      <th>default</th>\n",
       "    </tr>\n",
       "  </thead>\n",
       "  <tbody>\n",
       "    <tr>\n",
       "      <th>count</th>\n",
       "      <td>255347.000000</td>\n",
       "      <td>255347.000000</td>\n",
       "      <td>255347.000000</td>\n",
       "      <td>255347.000000</td>\n",
       "      <td>255347.000000</td>\n",
       "      <td>255347.000000</td>\n",
       "      <td>255347.000000</td>\n",
       "      <td>255347.000000</td>\n",
       "      <td>255347.000000</td>\n",
       "      <td>255347.000000</td>\n",
       "    </tr>\n",
       "    <tr>\n",
       "      <th>mean</th>\n",
       "      <td>43.498306</td>\n",
       "      <td>82499.304597</td>\n",
       "      <td>127578.865512</td>\n",
       "      <td>574.264346</td>\n",
       "      <td>59.541976</td>\n",
       "      <td>2.501036</td>\n",
       "      <td>13.492773</td>\n",
       "      <td>36.025894</td>\n",
       "      <td>0.500212</td>\n",
       "      <td>0.116128</td>\n",
       "    </tr>\n",
       "    <tr>\n",
       "      <th>std</th>\n",
       "      <td>14.990258</td>\n",
       "      <td>38963.013729</td>\n",
       "      <td>70840.706142</td>\n",
       "      <td>158.903867</td>\n",
       "      <td>34.643376</td>\n",
       "      <td>1.117018</td>\n",
       "      <td>6.636443</td>\n",
       "      <td>16.969330</td>\n",
       "      <td>0.230917</td>\n",
       "      <td>0.320379</td>\n",
       "    </tr>\n",
       "    <tr>\n",
       "      <th>min</th>\n",
       "      <td>18.000000</td>\n",
       "      <td>15000.000000</td>\n",
       "      <td>5000.000000</td>\n",
       "      <td>300.000000</td>\n",
       "      <td>0.000000</td>\n",
       "      <td>1.000000</td>\n",
       "      <td>2.000000</td>\n",
       "      <td>12.000000</td>\n",
       "      <td>0.100000</td>\n",
       "      <td>0.000000</td>\n",
       "    </tr>\n",
       "    <tr>\n",
       "      <th>25%</th>\n",
       "      <td>31.000000</td>\n",
       "      <td>48825.500000</td>\n",
       "      <td>66156.000000</td>\n",
       "      <td>437.000000</td>\n",
       "      <td>30.000000</td>\n",
       "      <td>2.000000</td>\n",
       "      <td>7.770000</td>\n",
       "      <td>24.000000</td>\n",
       "      <td>0.300000</td>\n",
       "      <td>0.000000</td>\n",
       "    </tr>\n",
       "    <tr>\n",
       "      <th>50%</th>\n",
       "      <td>43.000000</td>\n",
       "      <td>82466.000000</td>\n",
       "      <td>127556.000000</td>\n",
       "      <td>574.000000</td>\n",
       "      <td>60.000000</td>\n",
       "      <td>2.000000</td>\n",
       "      <td>13.460000</td>\n",
       "      <td>36.000000</td>\n",
       "      <td>0.500000</td>\n",
       "      <td>0.000000</td>\n",
       "    </tr>\n",
       "    <tr>\n",
       "      <th>75%</th>\n",
       "      <td>56.000000</td>\n",
       "      <td>116219.000000</td>\n",
       "      <td>188985.000000</td>\n",
       "      <td>712.000000</td>\n",
       "      <td>90.000000</td>\n",
       "      <td>3.000000</td>\n",
       "      <td>19.250000</td>\n",
       "      <td>48.000000</td>\n",
       "      <td>0.700000</td>\n",
       "      <td>0.000000</td>\n",
       "    </tr>\n",
       "    <tr>\n",
       "      <th>max</th>\n",
       "      <td>69.000000</td>\n",
       "      <td>149999.000000</td>\n",
       "      <td>249999.000000</td>\n",
       "      <td>849.000000</td>\n",
       "      <td>119.000000</td>\n",
       "      <td>4.000000</td>\n",
       "      <td>25.000000</td>\n",
       "      <td>60.000000</td>\n",
       "      <td>0.900000</td>\n",
       "      <td>1.000000</td>\n",
       "    </tr>\n",
       "  </tbody>\n",
       "</table>\n",
       "</div>"
      ],
      "text/plain": [
       "                 age         income     loanamount    creditscore  \\\n",
       "count  255347.000000  255347.000000  255347.000000  255347.000000   \n",
       "mean       43.498306   82499.304597  127578.865512     574.264346   \n",
       "std        14.990258   38963.013729   70840.706142     158.903867   \n",
       "min        18.000000   15000.000000    5000.000000     300.000000   \n",
       "25%        31.000000   48825.500000   66156.000000     437.000000   \n",
       "50%        43.000000   82466.000000  127556.000000     574.000000   \n",
       "75%        56.000000  116219.000000  188985.000000     712.000000   \n",
       "max        69.000000  149999.000000  249999.000000     849.000000   \n",
       "\n",
       "       monthsemployed  numcreditlines   interestrate       loanterm  \\\n",
       "count   255347.000000   255347.000000  255347.000000  255347.000000   \n",
       "mean        59.541976        2.501036      13.492773      36.025894   \n",
       "std         34.643376        1.117018       6.636443      16.969330   \n",
       "min          0.000000        1.000000       2.000000      12.000000   \n",
       "25%         30.000000        2.000000       7.770000      24.000000   \n",
       "50%         60.000000        2.000000      13.460000      36.000000   \n",
       "75%         90.000000        3.000000      19.250000      48.000000   \n",
       "max        119.000000        4.000000      25.000000      60.000000   \n",
       "\n",
       "            dtiratio        default  \n",
       "count  255347.000000  255347.000000  \n",
       "mean        0.500212       0.116128  \n",
       "std         0.230917       0.320379  \n",
       "min         0.100000       0.000000  \n",
       "25%         0.300000       0.000000  \n",
       "50%         0.500000       0.000000  \n",
       "75%         0.700000       0.000000  \n",
       "max         0.900000       1.000000  "
      ]
     },
     "execution_count": 8,
     "metadata": {},
     "output_type": "execute_result"
    }
   ],
   "source": [
    "df.describe()"
   ]
  },
  {
   "cell_type": "markdown",
   "id": "29af3864",
   "metadata": {},
   "source": [
    "## 5. Análisis Exploratorio de Datos (EDA)"
   ]
  },
  {
   "cell_type": "code",
   "execution_count": 10,
   "id": "9f34a45d",
   "metadata": {},
   "outputs": [
    {
     "name": "stdout",
     "output_type": "stream",
     "text": [
      "Resumen estadístico:\n",
      "                 age         income     loanamount    creditscore  \\\n",
      "count  255347.000000  255347.000000  255347.000000  255347.000000   \n",
      "mean       43.498306   82499.304597  127578.865512     574.264346   \n",
      "std        14.990258   38963.013729   70840.706142     158.903867   \n",
      "min        18.000000   15000.000000    5000.000000     300.000000   \n",
      "25%        31.000000   48825.500000   66156.000000     437.000000   \n",
      "50%        43.000000   82466.000000  127556.000000     574.000000   \n",
      "75%        56.000000  116219.000000  188985.000000     712.000000   \n",
      "max        69.000000  149999.000000  249999.000000     849.000000   \n",
      "\n",
      "       monthsemployed  numcreditlines   interestrate       loanterm  \\\n",
      "count   255347.000000   255347.000000  255347.000000  255347.000000   \n",
      "mean        59.541976        2.501036      13.492773      36.025894   \n",
      "std         34.643376        1.117018       6.636443      16.969330   \n",
      "min          0.000000        1.000000       2.000000      12.000000   \n",
      "25%         30.000000        2.000000       7.770000      24.000000   \n",
      "50%         60.000000        2.000000      13.460000      36.000000   \n",
      "75%         90.000000        3.000000      19.250000      48.000000   \n",
      "max        119.000000        4.000000      25.000000      60.000000   \n",
      "\n",
      "            dtiratio        default  \n",
      "count  255347.000000  255347.000000  \n",
      "mean        0.500212       0.116128  \n",
      "std         0.230917       0.320379  \n",
      "min         0.100000       0.000000  \n",
      "25%         0.300000       0.000000  \n",
      "50%         0.500000       0.000000  \n",
      "75%         0.700000       0.000000  \n",
      "max         0.900000       1.000000  \n",
      "\n",
      "Valores nulos:\n",
      "loanid            0\n",
      "age               0\n",
      "income            0\n",
      "loanamount        0\n",
      "creditscore       0\n",
      "monthsemployed    0\n",
      "numcreditlines    0\n",
      "interestrate      0\n",
      "loanterm          0\n",
      "dtiratio          0\n",
      "education         0\n",
      "employmenttype    0\n",
      "maritalstatus     0\n",
      "hasmortgage       0\n",
      "hasdependents     0\n",
      "loanpurpose       0\n",
      "hascosigner       0\n",
      "default           0\n",
      "dtype: int64\n",
      "\n",
      "Distribución de la variable objetivo (default):\n"
     ]
    },
    {
     "data": {
      "image/png": "[encoded data removed]",
      "text/plain": [
       "<Figure size 640x480 with 1 Axes>"
      ]
     },
     "metadata": {},
     "output_type": "display_data"
    },
    {
     "name": "stdout",
     "output_type": "stream",
     "text": [
      "\n",
      "Correlación entre variables numéricas:\n"
     ]
    },
    {
     "data": {
      "image/png": "[encoded data removed]",
      "text/plain": [
       "<Figure size 1200x800 with 2 Axes>"
      ]
     },
     "metadata": {},
     "output_type": "display_data"
    }
   ],
   "source": [
    "print(\"Resumen estadístico:\")\n",
    "print(df.describe())\n",
    "\n",
    "print(\"\\nValores nulos:\")\n",
    "print(df.isnull().sum())\n",
    "\n",
    "print(\"\\nDistribución de la variable objetivo (default):\")\n",
    "sns.countplot(x='default', data=df)\n",
    "plt.title('Distribución de default')\n",
    "plt.show()\n",
    "\n",
    "print(\"\\nCorrelación entre variables numéricas:\")\n",
    "plt.figure(figsize=(12, 8))\n",
    "numeric_df = df.select_dtypes(include=[np.number])  # Solo columnas numéricas\n",
    "sns.heatmap(numeric_df.corr(), annot=True, cmap='coolwarm')\n",
    "plt.title('Matriz de Correlación')\n",
    "plt.show()\n"
   ]
  },
  {
   "cell_type": "markdown",
   "id": "1dcf0135",
   "metadata": {},
   "source": [
    "## 6. Valores nulos por columna"
   ]
  },
  {
   "cell_type": "code",
   "execution_count": 11,
   "id": "220a38e6",
   "metadata": {},
   "outputs": [
    {
     "data": {
      "text/plain": [
       "loanid            0\n",
       "age               0\n",
       "income            0\n",
       "loanamount        0\n",
       "creditscore       0\n",
       "monthsemployed    0\n",
       "numcreditlines    0\n",
       "interestrate      0\n",
       "loanterm          0\n",
       "dtiratio          0\n",
       "education         0\n",
       "employmenttype    0\n",
       "maritalstatus     0\n",
       "hasmortgage       0\n",
       "hasdependents     0\n",
       "loanpurpose       0\n",
       "hascosigner       0\n",
       "default           0\n",
       "dtype: int64"
      ]
     },
     "execution_count": 11,
     "metadata": {},
     "output_type": "execute_result"
    }
   ],
   "source": [
    "df.isnull().sum()"
   ]
  },
  {
   "cell_type": "markdown",
   "id": "10d2b159",
   "metadata": {},
   "source": [
    "## 7.  Análisis por grupos: default vs no-default"
   ]
  },
  {
   "cell_type": "code",
   "execution_count": 13,
   "id": "a6ddbe2f",
   "metadata": {},
   "outputs": [
    {
     "name": "stdout",
     "output_type": "stream",
     "text": [
      "Prueba t para age: estadístico=86.003, p-valor=0.000\n",
      "Prueba t para income: estadístico=50.335, p-valor=0.000\n",
      "Prueba t para loanamount: estadístico=-43.956, p-valor=0.000\n",
      "Prueba t para creditscore: estadístico=17.275, p-valor=0.000\n",
      "Prueba t para monthsemployed: estadístico=49.440, p-valor=0.000\n",
      "Prueba t para numcreditlines: estadístico=-14.321, p-valor=0.000\n",
      "Prueba t para interestrate: estadístico=-66.914, p-valor=0.000\n",
      "Prueba t para loanterm: estadístico=-0.275, p-valor=0.783\n",
      "Prueba t para dtiratio: estadístico=-9.722, p-valor=0.000\n"
     ]
    }
   ],
   "source": [
    "if 'default' in df.columns:\n",
    "    numeric_cols = df.select_dtypes(include=np.number).columns.drop('default')\n",
    "    for col in numeric_cols:\n",
    "        group0 = df[df['default'] == 0][col].dropna()\n",
    "        group1 = df[df['default'] == 1][col].dropna()\n",
    "        stat, p = stats.ttest_ind(group0, group1)\n",
    "        print(f\"Prueba t para {col}: estadístico={stat:.3f}, p-valor={p:.3f}\")"
   ]
  },
  {
   "cell_type": "markdown",
   "id": "575fb71d",
   "metadata": {},
   "source": [
    "## 8.  Análisis por grupos: default vs no-default"
   ]
  },
  {
   "cell_type": "code",
   "execution_count": 20,
   "id": "0dc45add",
   "metadata": {},
   "outputs": [
    {
     "data": {
      "image/png": "[encoded data removed]",
      "text/plain": [
       "<Figure size 1000x600 with 1 Axes>"
      ]
     },
     "metadata": {},
     "output_type": "display_data"
    }
   ],
   "source": [
    "importances = pd.Series(rf.feature_importances_, index=X.columns).sort_values(ascending=False)\n",
    "plt.figure(figsize=(10, 6))\n",
    "sns.barplot(x=importances.values, y=importances.index)\n",
    "plt.title('Importancia de Variables - Random Forest')\n",
    "plt.xlabel('Importancia')\n",
    "plt.ylabel('Variable')\n",
    "plt.show()\n"
   ]
  },
  {
   "cell_type": "markdown",
   "id": "cded6385",
   "metadata": {},
   "source": [
    "# Selección de las N variables más importantes"
   ]
  },
  {
   "cell_type": "code",
   "execution_count": 22,
   "id": "3f4e2a4c",
   "metadata": {},
   "outputs": [
    {
     "name": "stdout",
     "output_type": "stream",
     "text": [
      "Variables más importantes para el modelo: ['income', 'interestrate', 'loanamount', 'loanid', 'creditscore']\n"
     ]
    }
   ],
   "source": [
    "top_features = importances.head(5).index.tolist()\n",
    "print(\"Variables más importantes para el modelo:\", top_features)"
   ]
  },
  {
   "cell_type": "markdown",
   "id": "7af9f6e6",
   "metadata": {},
   "source": [
    "## 9. Prueba de predicción con input manual"
   ]
  },
  {
   "cell_type": "code",
   "execution_count": null,
   "id": "741e12a8",
   "metadata": {},
   "outputs": [
    {
     "name": "stdout",
     "output_type": "stream",
     "text": [
      "\n",
      "Predicción con input de cliente nuevo (valores de ejemplo):\n"
     ]
    }
   ],
   "source": [
    "print(\"\\nPredicción con input de cliente nuevo (valores de ejemplo):\")\n",
    "input_data = {}\n",
    "for feature in top_features:\n",
    "    value = float(input(f\"Ingrese valor para {feature}: \"))\n",
    "    input_data[feature] = value\n",
    "input_df = pd.DataFrame([input_data])"
   ]
  },
  {
   "cell_type": "markdown",
   "id": "d10de946",
   "metadata": {},
   "source": [
    "## 8. Pruebas para Selección de Modelos Predictivos\n",
    "\n"
   ]
  },
  {
   "cell_type": "code",
   "execution_count": 14,
   "id": "d88aaae1",
   "metadata": {},
   "outputs": [
    {
     "name": "stdout",
     "output_type": "stream",
     "text": [
      "⚠️ La columna 'loan_status' no se encuentra en el DataFrame.\n"
     ]
    }
   ],
   "source": [
    "# Ajustado a nombre de columna normalizado\n",
    "if 'loan_status' in df.columns:\n",
    "    sns.countplot(data=df, x='loan_status', palette='Set2')\n",
    "    plt.title('Comportamiento de Pago de los Clientes')\n",
    "    plt.xlabel('Estado del Préstamo')\n",
    "    plt.ylabel('Cantidad de Clientes')\n",
    "    plt.xticks(rotation=45)\n",
    "    plt.show()\n",
    "else:\n",
    "    print(\"⚠️ La columna 'loan_status' no se encuentra en el DataFrame.\")"
   ]
  },
  {
   "cell_type": "markdown",
   "id": "966864e4",
   "metadata": {},
   "source": [
    "##  # Codificar variables categóricas si las hay"
   ]
  },
  {
   "cell_type": "code",
   "execution_count": 15,
   "id": "5fe588c1",
   "metadata": {},
   "outputs": [],
   "source": [
    "le = LabelEncoder()\n",
    "for col in df.select_dtypes(include='object').columns:\n",
    "    df[col] = le.fit_transform(df[col].astype(str))"
   ]
  },
  {
   "cell_type": "markdown",
   "id": "bfe10452",
   "metadata": {},
   "source": [
    "## # Separar variables predictoras y objetivo"
   ]
  },
  {
   "cell_type": "code",
   "execution_count": 16,
   "id": "7d035c77",
   "metadata": {},
   "outputs": [],
   "source": [
    "X = df.drop(\"default\", axis=1)\n",
    "y = df[\"default\"]\n"
   ]
  },
  {
   "cell_type": "markdown",
   "id": "ecc770dd",
   "metadata": {},
   "source": [
    "## # Dividir datos"
   ]
  },
  {
   "cell_type": "code",
   "execution_count": 17,
   "id": "37df5840",
   "metadata": {},
   "outputs": [],
   "source": [
    "X_train, X_test, y_train, y_test = train_test_split(X, y, test_size=0.2, random_state=42)"
   ]
  },
  {
   "cell_type": "markdown",
   "id": "1a93ce91",
   "metadata": {},
   "source": [
    "## # Modelo 1: Regresión Logística"
   ]
  },
  {
   "cell_type": "code",
   "execution_count": 18,
   "id": "9a7095a8",
   "metadata": {},
   "outputs": [
    {
     "name": "stdout",
     "output_type": "stream",
     "text": [
      "\n",
      "Logistic Regression Report:\n",
      "              precision    recall  f1-score   support\n",
      "\n",
      "           0       0.89      1.00      0.94     45170\n",
      "           1       0.69      0.01      0.03      5900\n",
      "\n",
      "    accuracy                           0.89     51070\n",
      "   macro avg       0.79      0.51      0.48     51070\n",
      "weighted avg       0.86      0.89      0.83     51070\n",
      "\n",
      "ROC AUC: 0.7293437784940506\n"
     ]
    }
   ],
   "source": [
    "log_reg = LogisticRegression(max_iter=1000)\n",
    "log_reg.fit(X_train, y_train)\n",
    "y_pred_log = log_reg.predict(X_test)\n",
    "print(\"\\nLogistic Regression Report:\")\n",
    "print(classification_report(y_test, y_pred_log))\n",
    "print(\"ROC AUC:\", roc_auc_score(y_test, log_reg.predict_proba(X_test)[:, 1]))"
   ]
  },
  {
   "cell_type": "markdown",
   "id": "d8f354fc",
   "metadata": {},
   "source": [
    "## # Modelo 2: Random Forest"
   ]
  },
  {
   "cell_type": "code",
   "execution_count": 19,
   "id": "44607ee7",
   "metadata": {},
   "outputs": [
    {
     "name": "stdout",
     "output_type": "stream",
     "text": [
      "\n",
      "Random Forest Report:\n",
      "              precision    recall  f1-score   support\n",
      "\n",
      "           0       0.89      1.00      0.94     45170\n",
      "           1       0.65      0.04      0.08      5900\n",
      "\n",
      "    accuracy                           0.89     51070\n",
      "   macro avg       0.77      0.52      0.51     51070\n",
      "weighted avg       0.86      0.89      0.84     51070\n",
      "\n",
      "ROC AUC: 0.7337919310476806\n"
     ]
    }
   ],
   "source": [
    "rf = RandomForestClassifier(random_state=42)\n",
    "rf.fit(X_train, y_train)\n",
    "y_pred_rf = rf.predict(X_test)\n",
    "print(\"\\nRandom Forest Report:\")\n",
    "print(classification_report(y_test, y_pred_rf))\n",
    "print(\"ROC AUC:\", roc_auc_score(y_test, rf.predict_proba(X_test)[:, 1]))"
   ]
  }
 ],
 "metadata": {
  "kernelspec": {
   "display_name": "base",
   "language": "python",
   "name": "python3"
  },
  "language_info": {
   "codemirror_mode": {
    "name": "ipython",
    "version": 3
   },
   "file_extension": ".py",
   "mimetype": "text/x-python",
   "name": "python",
   "nbconvert_exporter": "python",
   "pygments_lexer": "ipython3",
   "version": "3.11.7"
  }
 },
 "nbformat": 4,
 "nbformat_minor": 5
}
